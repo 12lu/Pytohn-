{
 "cells": [
  {
   "cell_type": "markdown",
   "metadata": {},
   "source": [
    "\n",
    "Python：输入两个字符，判断这两个字符是否相似。判断准则：1 只存在一个字符不同2 一个字符串比另一个字符串少一个字符\n",
    "输出为：字符型1 或0\n"
   ]
  },
  {
   "cell_type": "code",
   "execution_count": 1,
   "metadata": {},
   "outputs": [
    {
     "name": "stdout",
     "output_type": "stream",
     "text": [
      "Abcd\n",
      "abcd\n",
      "1\n"
     ]
    }
   ],
   "source": [
    "a=input()\n",
    "b=input()\n",
    "c=len(a)\n",
    "d=len(b)\n",
    "o=str(1)\n",
    "oo=str(0)\n",
    "min_l=min(c,d)\n",
    "if c==d:\n",
    "    for i in range(min_l):\n",
    "      \n",
    "        if a[i] != b[i]:\n",
    "            a=a[:i]+a[i+1:]\n",
    "            b=b[:i]+b[i+1:]\n",
    "            if a != b:\n",
    "                print(oo)\n",
    "                break\n",
    "                exit()\n",
    "            else:\n",
    "                print(o)\n",
    "                break\n",
    "                \n",
    "           \n",
    "        else:\n",
    "            print(o)\n",
    "            break\n",
    "          \n",
    "         \n",
    "elif abs(c-d)==1:\n",
    "    for i in range(min_l-1):\n",
    "        if a[i] != b[i]:\n",
    "            if a[i]==b[i+1]:\n",
    "                b=b[:i]+b[i+1:]\n",
    "                if a==b:\n",
    "                    print(o)\n",
    "                   \n",
    "                    break\n",
    "                    exit()\n",
    "                else:\n",
    "                    print(oo)\n",
    "                    break\n",
    "                    \n",
    "            elif a[i+1]==b[i]:\n",
    "                a=a[:i]+a[i+1:]\n",
    "                if a==b:\n",
    "                    print(o)\n",
    "                    \n",
    "                    break\n",
    "                  \n",
    "                else:\n",
    "                    print(oo)\n",
    "                    break\n",
    "    \n",
    "            else:\n",
    "                print(oo)\n",
    "                break\n",
    "        else:\n",
    "            i==min_l\n",
    "            if a[i] == b[i]:\n",
    "                print(o)\n",
    "                break\n",
    "             \n",
    "                \n",
    "            else:\n",
    "                if min_l==c:\n",
    "                    if a[i]==b[i+1]:\n",
    "                        print(o)\n",
    "                        break\n",
    "                       \n",
    "                    else:\n",
    "                        print(oo)\n",
    "                        break\n",
    "                      \n",
    "                elif min_l==d:\n",
    "                    if a[i+1]==b[i]:\n",
    "                        print(o)\n",
    "                        break\n",
    "                      \n",
    "                    else:\n",
    "                        print(oo)\n",
    "                        break\n",
    "                        \n",
    "            \n",
    "else:\n",
    "    print(oo)\n",
    "    \n",
    "            "
   ]
  },
  {
   "cell_type": "code",
   "execution_count": null,
   "metadata": {
    "collapsed": true
   },
   "outputs": [],
   "source": []
  }
 ],
 "metadata": {
  "kernelspec": {
   "display_name": "Python 3",
   "language": "python",
   "name": "python3"
  },
  "language_info": {
   "codemirror_mode": {
    "name": "ipython",
    "version": 3
   },
   "file_extension": ".py",
   "mimetype": "text/x-python",
   "name": "python",
   "nbconvert_exporter": "python",
   "pygments_lexer": "ipython3",
   "version": "3.6.6"
  }
 },
 "nbformat": 4,
 "nbformat_minor": 2
}
