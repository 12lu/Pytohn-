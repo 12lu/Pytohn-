{
 "cells": [
  {
   "cell_type": "code",
   "execution_count": 8,
   "metadata": {},
   "outputs": [
    {
     "name": "stdout",
     "output_type": "stream",
     "text": [
      "abcd\n",
      "abcde\n",
      "1\n"
     ]
    }
   ],
   "source": [
    "a=input()\n",
    "b=input()\n",
    "c=len(a)\n",
    "d=len(b)\n",
    "o=str(1)\n",
    "oo=str(0)\n",
    "min_l=min(c,d)\n",
    "if a==b:\n",
    "    print(o)\n",
    "else:   \n",
    "    if c==d:\n",
    "        for i in range(min_l):\n",
    "      \n",
    "           while a[i] != b[i]:\n",
    "                \n",
    "                if a[i+1:] != b[i+1:]:\n",
    "                    print(oo)\n",
    "                    break\n",
    "                else:\n",
    "                    print(o)\n",
    "                    break\n",
    "          \n",
    "         \n",
    "    elif abs(c-d)==1 and min_l==c:\n",
    "        if a[:min_l]==b[:min_l]:\n",
    "            print(o)\n",
    "        else:\n",
    "            for i in range(min_l):\n",
    "                while a[i] != b[i] and a[i]==b[i+1]:\n",
    "                    b=b[:i]+b[i+1:]#字符串的拼接\n",
    "                    if a==b:\n",
    "                        print(o)\n",
    "                        break\n",
    "                        exit()\n",
    "                    else:\n",
    "                        print(oo)\n",
    "                        break\n",
    "    \n",
    "    elif abs(c-d)==1 and min_l==d:\n",
    "        if a[:min_l]==b[:min_l]:\n",
    "            print(o)\n",
    "        else:\n",
    "            for i in range(min_l):\n",
    "                while a[i] != b[i] and a[i+1]==b[i]:\n",
    "                    a=a[:i]+a[i+1:]#字符串的拼接\n",
    "                    if a==b:\n",
    "                        print(o)\n",
    "                        break\n",
    "                        exit()\n",
    "                    else:\n",
    "                        print(oo)\n",
    "                        break     \n",
    "    else:\n",
    "        print(oo)\n",
    "    "
   ]
  },
  {
   "cell_type": "code",
   "execution_count": null,
   "metadata": {
    "collapsed": true
   },
   "outputs": [],
   "source": []
  }
 ],
 "metadata": {
  "kernelspec": {
   "display_name": "Python 3",
   "language": "python",
   "name": "python3"
  },
  "language_info": {
   "codemirror_mode": {
    "name": "ipython",
    "version": 3
   },
   "file_extension": ".py",
   "mimetype": "text/x-python",
   "name": "python",
   "nbconvert_exporter": "python",
   "pygments_lexer": "ipython3",
   "version": "3.6.6"
  }
 },
 "nbformat": 4,
 "nbformat_minor": 2
}
